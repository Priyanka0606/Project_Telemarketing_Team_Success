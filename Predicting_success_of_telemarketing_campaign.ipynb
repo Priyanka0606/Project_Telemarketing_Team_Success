{
 "cells": [
  {
   "cell_type": "markdown",
   "id": "ed8d10bf",
   "metadata": {},
   "source": [
    "## Problem Statement"
   ]
  },
  {
   "cell_type": "markdown",
   "id": "8bac172e",
   "metadata": {},
   "source": [
    "The Telemarketing team of a bank runs campaign to expand the term deposit portfolio. You are requested to enable prioritization for the Telemarketing team, so that overall responses and ROI(Returm On Investment) of the campaign increases."
   ]
  },
  {
   "cell_type": "markdown",
   "id": "e6a83960",
   "metadata": {},
   "source": [
    "## Importing Libraries"
   ]
  },
  {
   "cell_type": "code",
   "execution_count": null,
   "id": "40ffdcba",
   "metadata": {},
   "outputs": [],
   "source": [
    "import numpy as np\n",
    "import pandas as pd\n",
    "import matplotlib.pyplot as plt\n",
    "import seaborn as sns"
   ]
  },
  {
   "cell_type": "markdown",
   "id": "87b36ab2",
   "metadata": {},
   "source": [
    "## Importing the Data for ML Project"
   ]
  },
  {
   "cell_type": "code",
   "execution_count": null,
   "id": "c9dd9931",
   "metadata": {},
   "outputs": [],
   "source": [
    "# Read the data\n",
    "df = pd.read_csv('/Users/priyankac/Downloads/bank_telemaketing.xlsx - bank-additional-full.csv')"
   ]
  },
  {
   "cell_type": "code",
   "execution_count": null,
   "id": "a7fa58e6",
   "metadata": {},
   "outputs": [],
   "source": [
    "# Checking the number of rows and columns\n",
    "df.shape"
   ]
  },
  {
   "cell_type": "code",
   "execution_count": null,
   "id": "1187ed66",
   "metadata": {},
   "outputs": [],
   "source": [
    "df.head()\n"
   ]
  },
  {
   "cell_type": "code",
   "execution_count": null,
   "id": "ba6897bf",
   "metadata": {},
   "outputs": [],
   "source": [
    "df.dtypes"
   ]
  },
  {
   "cell_type": "markdown",
   "id": "2117398a",
   "metadata": {},
   "source": [
    "## Setting Display options to ensure feature name visibility"
   ]
  },
  {
   "cell_type": "code",
   "execution_count": null,
   "id": "8bd82bd3",
   "metadata": {},
   "outputs": [],
   "source": [
    "pd.set_option('display.max_columns', None)"
   ]
  },
  {
   "cell_type": "markdown",
   "id": "34678001",
   "metadata": {},
   "source": [
    "## Warning Suppression"
   ]
  },
  {
   "cell_type": "code",
   "execution_count": null,
   "id": "30c19e49",
   "metadata": {},
   "outputs": [],
   "source": [
    "import warnings\n",
    "warnings.filterwarnings('ignore')"
   ]
  },
  {
   "cell_type": "markdown",
   "id": "0d8addba",
   "metadata": {},
   "source": [
    "## Label the Target feature to 1/0"
   ]
  },
  {
   "cell_type": "code",
   "execution_count": null,
   "id": "63d89893",
   "metadata": {},
   "outputs": [],
   "source": [
    "df['y'].value_counts()"
   ]
  },
  {
   "cell_type": "code",
   "execution_count": null,
   "id": "b3c8b3a4",
   "metadata": {},
   "outputs": [],
   "source": [
    "df['target'] = np.where(df['y'] == 'yes', 1, 0)"
   ]
  },
  {
   "cell_type": "code",
   "execution_count": null,
   "id": "6366b8ca",
   "metadata": {},
   "outputs": [],
   "source": [
    "df.target"
   ]
  },
  {
   "cell_type": "markdown",
   "id": "a225fa3f",
   "metadata": {},
   "source": [
    "## Drop Target feature to retain only the target column"
   ]
  },
  {
   "cell_type": "code",
   "execution_count": null,
   "id": "90b4dd5e",
   "metadata": {},
   "outputs": [],
   "source": [
    "df = df.drop(['y'], axis = 1)"
   ]
  },
  {
   "cell_type": "code",
   "execution_count": null,
   "id": "233a2adf",
   "metadata": {},
   "outputs": [],
   "source": [
    "df.head()"
   ]
  },
  {
   "cell_type": "markdown",
   "id": "adda7e59",
   "metadata": {},
   "source": [
    "## Defining Target and Independent Features"
   ]
  },
  {
   "cell_type": "code",
   "execution_count": null,
   "id": "07390110",
   "metadata": {},
   "outputs": [],
   "source": [
    "Y = df[['target']]\n",
    "X = df.drop(['target'], axis = 1)"
   ]
  },
  {
   "cell_type": "markdown",
   "id": "d7762f28",
   "metadata": {},
   "source": [
    "## Get the Event Rate"
   ]
  },
  {
   "cell_type": "code",
   "execution_count": null,
   "id": "dd7b627f",
   "metadata": {},
   "outputs": [],
   "source": [
    "Y.mean()"
   ]
  },
  {
   "cell_type": "markdown",
   "id": "2224752d",
   "metadata": {},
   "source": [
    "## Split features into Numerical and Categorical"
   ]
  },
  {
   "cell_type": "code",
   "execution_count": null,
   "id": "abdce48b",
   "metadata": {},
   "outputs": [],
   "source": [
    "num = X.select_dtypes(include = 'number')\n",
    "char = X.select_dtypes(include = 'object')"
   ]
  },
  {
   "cell_type": "code",
   "execution_count": null,
   "id": "c621cb44",
   "metadata": {},
   "outputs": [],
   "source": [
    "num.dtypes"
   ]
  },
  {
   "cell_type": "code",
   "execution_count": null,
   "id": "b3426cde",
   "metadata": {},
   "outputs": [],
   "source": [
    "def unique_levels(x):\n",
    "    x = x.value_counts().count()\n",
    "    return(x)\n",
    "\n",
    "df_value_counts = pd.DataFrame(num.apply(lambda x : unique_levels(x)))\n",
    "df_value_counts"
   ]
  },
  {
   "cell_type": "code",
   "execution_count": null,
   "id": "99a71709",
   "metadata": {},
   "outputs": [],
   "source": [
    "df_value_counts.columns = ['feature_levels']\n",
    "df_value_counts"
   ]
  },
  {
   "cell_type": "code",
   "execution_count": null,
   "id": "f7b48032",
   "metadata": {},
   "outputs": [],
   "source": [
    "slice1 = df_value_counts.loc[df_value_counts['feature_levels'] <= 20]\n",
    "cat_list = slice1.index\n",
    "cat = num.loc[:, cat_list]\n",
    "cat.dtypes"
   ]
  },
  {
   "cell_type": "code",
   "execution_count": null,
   "id": "6d1b86d5",
   "metadata": {},
   "outputs": [],
   "source": [
    "slice2 = df_value_counts.loc[df_value_counts['feature_levels'] > 20]\n",
    "num_list = slice2.index\n",
    "num = num.loc[:, num_list]"
   ]
  },
  {
   "cell_type": "code",
   "execution_count": null,
   "id": "e155d841",
   "metadata": {},
   "outputs": [],
   "source": [
    "# Updating the char dataframe with the cat dataframe \n",
    "char = pd.concat([char, cat], axis = 1, join = 'inner')"
   ]
  },
  {
   "cell_type": "code",
   "execution_count": null,
   "id": "f443fe34",
   "metadata": {},
   "outputs": [],
   "source": [
    "char.head()"
   ]
  },
  {
   "cell_type": "code",
   "execution_count": null,
   "id": "a1d66604",
   "metadata": {},
   "outputs": [],
   "source": [
    "num.head()"
   ]
  },
  {
   "cell_type": "markdown",
   "id": "3e5c74f9",
   "metadata": {},
   "source": [
    "## Outlier Analysis"
   ]
  },
  {
   "cell_type": "code",
   "execution_count": null,
   "id": "05415e66",
   "metadata": {},
   "outputs": [],
   "source": [
    "num.describe(percentiles = [0.01,0.05,0.10,0.25,0.50,0.75,0.85,0.9,0.99])"
   ]
  },
  {
   "cell_type": "markdown",
   "id": "56239dee",
   "metadata": {},
   "source": [
    "## Flooring and Capping of Outliers"
   ]
  },
  {
   "cell_type": "code",
   "execution_count": null,
   "id": "b748d543",
   "metadata": {},
   "outputs": [],
   "source": [
    "def outlier_cap(x):\n",
    "    x = x.clip(lower = x.quantile(0.01))\n",
    "    x = x.clip(upper = x.quantile(0.99))\n",
    "    return(x)"
   ]
  },
  {
   "cell_type": "code",
   "execution_count": null,
   "id": "d7ea127b",
   "metadata": {},
   "outputs": [],
   "source": [
    "num = num.apply(lambda x : outlier_cap(x))"
   ]
  },
  {
   "cell_type": "code",
   "execution_count": null,
   "id": "ece51b53",
   "metadata": {},
   "outputs": [],
   "source": [
    "num.describe(percentiles = [0.01,0.05,0.10,0.25,0.50,0.75,0.85,0.9,0.99])"
   ]
  },
  {
   "cell_type": "markdown",
   "id": "8f34cec8",
   "metadata": {},
   "source": [
    "## Missing Values Analysis"
   ]
  },
  {
   "cell_type": "code",
   "execution_count": null,
   "id": "76165627",
   "metadata": {},
   "outputs": [],
   "source": [
    "num.isnull().mean()"
   ]
  },
  {
   "cell_type": "code",
   "execution_count": null,
   "id": "9f318f87",
   "metadata": {},
   "outputs": [],
   "source": [
    "char.isnull().mean()"
   ]
  },
  {
   "cell_type": "code",
   "execution_count": null,
   "id": "c188ed42",
   "metadata": {},
   "outputs": [],
   "source": [
    "# No missing values in the data"
   ]
  },
  {
   "cell_type": "markdown",
   "id": "45afc034",
   "metadata": {},
   "source": [
    "## Feature Selection - Numerical Features"
   ]
  },
  {
   "cell_type": "markdown",
   "id": "20b283a6",
   "metadata": {},
   "source": [
    "### Part 1 : Remove Features with 0 Variance"
   ]
  },
  {
   "cell_type": "code",
   "execution_count": null,
   "id": "25ef1276",
   "metadata": {},
   "outputs": [],
   "source": [
    "from sklearn.feature_selection import VarianceThreshold\n",
    "varselector = VarianceThreshold(threshold = 0)\n",
    "varselector.fit_transform(num)\n",
    "\n",
    "# Get columns to keep and create new dataframe with those only\n",
    "cols = varselector.get_support(indices = True)\n",
    "num_1 = num.iloc[:, cols]"
   ]
  },
  {
   "cell_type": "code",
   "execution_count": null,
   "id": "b2192d6c",
   "metadata": {},
   "outputs": [],
   "source": [
    "num_1.iloc[0]"
   ]
  },
  {
   "cell_type": "markdown",
   "id": "fe42b7bd",
   "metadata": {},
   "source": [
    "## Part 2 : Bi Variate Analysis(Feature Discretization)"
   ]
  },
  {
   "cell_type": "code",
   "execution_count": null,
   "id": "9ffac83d",
   "metadata": {},
   "outputs": [],
   "source": [
    "from sklearn.preprocessing import KBinsDiscretizer\n",
    "\n",
    "discrete = KBinsDiscretizer(n_bins = 10, encode = 'ordinal', strategy = 'quantile')\n",
    "num_binned = pd.DataFrame(discrete.fit_transform(num_1), index = num_1.index, \n",
    "                          columns = num_1.columns).add_suffix('_Rank')\n",
    "num_binned.head()"
   ]
  },
  {
   "cell_type": "code",
   "execution_count": null,
   "id": "7b151351",
   "metadata": {},
   "outputs": [],
   "source": [
    "# Check if the features show a slope at all\n",
    "# If they do, then do you see some deciles below the population average and some higher than the population average?\n",
    "# If that is the case then the slope will be strong\n",
    "\n",
    "# Conclusion: A strong slope is indicator of the features' ability to discriminate the event from non event\n",
    "#             making it a good predictor\n",
    "\n",
    "X_bin_combined = pd.concat([Y, num_binned], axis = 1, join = 'inner')\n",
    "\n",
    "from numpy import mean\n",
    "for cols in (num_binned.columns):\n",
    "    plt.figure()\n",
    "    sns.lineplot(x = cols, y = X_bin_combined['target'].mean(), data = X_bin_combined, color = 'red')\n",
    "    sns.barplot(x = cols, y = 'target', data = X_bin_combined, estimator = mean)\n",
    "plt.show()    "
   ]
  },
  {
   "cell_type": "code",
   "execution_count": null,
   "id": "c3c7eca5",
   "metadata": {},
   "outputs": [],
   "source": [
    "# plotting the above using scatterplot and lineplot\n",
    "for cols in (num_binned.columns):\n",
    "    plt.figure()\n",
    "    sns.scatterplot(x = cols, y = X_bin_combined['target'].mean(), data = X_bin_combined, color = 'red')\n",
    "    sns.lineplot(x = cols, y = 'target', data = X_bin_combined, estimator = mean)\n",
    "plt.show()"
   ]
  },
  {
   "cell_type": "code",
   "execution_count": null,
   "id": "ca9ff7c4",
   "metadata": {},
   "outputs": [],
   "source": [
    "# Dropping the features age(as it follows a u pattern so not much useful) \n",
    "# And pdays (doesn't demonstrate any slope)\n",
    "num_1 = num_1.drop(['age', 'pdays'], axis = 1)"
   ]
  },
  {
   "cell_type": "code",
   "execution_count": null,
   "id": "4a0cc30c",
   "metadata": {},
   "outputs": [],
   "source": [
    "num_1.dtypes"
   ]
  },
  {
   "cell_type": "code",
   "execution_count": null,
   "id": "38d2218e",
   "metadata": {},
   "outputs": [],
   "source": [
    "# All the features from the num_1 will get selected due to good discrimination power by all of them\n",
    "select_features_df_num = num_1"
   ]
  },
  {
   "cell_type": "code",
   "execution_count": null,
   "id": "39c91af2",
   "metadata": {},
   "outputs": [],
   "source": [
    "select_features_df_num.shape"
   ]
  },
  {
   "cell_type": "markdown",
   "id": "cdf9f2da",
   "metadata": {},
   "source": [
    "## Feature Selection - Categorical Features"
   ]
  },
  {
   "cell_type": "markdown",
   "id": "01cae038",
   "metadata": {},
   "source": [
    "### Part 1 : Bi Variate Analysis"
   ]
  },
  {
   "cell_type": "code",
   "execution_count": null,
   "id": "10ab3ec0",
   "metadata": {},
   "outputs": [],
   "source": [
    "X_char_merged = pd.concat([Y, char], axis = 1, join = 'inner')\n",
    "\n",
    "from numpy import mean\n",
    "for col in (char.columns):\n",
    "    plt.figure()\n",
    "    sns.lineplot(x = col, y = X_char_merged['target'].mean(), data = X_char_merged, color = 'red')\n",
    "    sns.barplot(x = col, y = 'target', data = X_char_merged, estimator = mean)\n",
    "plt.show()    "
   ]
  },
  {
   "cell_type": "code",
   "execution_count": null,
   "id": "75580d62",
   "metadata": {},
   "outputs": [],
   "source": [
    "# Dropping the features that do no have any slope visible\n",
    "char = char.drop(['housing', 'education', 'marital','loan', 'day_of_week'], axis = 1)"
   ]
  },
  {
   "cell_type": "code",
   "execution_count": null,
   "id": "337702e1",
   "metadata": {},
   "outputs": [],
   "source": [
    "# For the feature 'default', converting the 'unknown' as yes\n",
    "char['default'] = np.where(char['default'] == 'unknown', 'yes', char['default'])"
   ]
  },
  {
   "cell_type": "code",
   "execution_count": null,
   "id": "3b2798c2",
   "metadata": {},
   "outputs": [],
   "source": [
    "# emp.var.rate as  has negative valuesso covert it to object type before one hot encoding\n",
    "char['emp.var.rate'] = char['emp.var.rate'].astype('object')"
   ]
  },
  {
   "cell_type": "code",
   "execution_count": null,
   "id": "ed185ae3",
   "metadata": {},
   "outputs": [],
   "source": [
    "# Create dummy features with n-1 levels\n",
    "X_char_dum = pd.get_dummies(char, drop_first = True)\n",
    "X_char_dum.shape"
   ]
  },
  {
   "cell_type": "markdown",
   "id": "01f7717d",
   "metadata": {},
   "source": [
    "### Part 2 : Select K best"
   ]
  },
  {
   "cell_type": "code",
   "execution_count": null,
   "id": "c7d9bc61",
   "metadata": {},
   "outputs": [],
   "source": [
    "from sklearn.feature_selection import SelectKBest, chi2\n",
    "selector = SelectKBest(chi2, k = 30)\n",
    "selector.fit_transform(X_char_dum, Y)\n",
    "\n",
    "# Get the columns to keep and create new dataframe with those only\n",
    "cols = selector.get_support(indices = True)\n",
    "select_features_df_char = X_char_dum.iloc[:, cols]"
   ]
  },
  {
   "cell_type": "code",
   "execution_count": null,
   "id": "c32d4cee",
   "metadata": {},
   "outputs": [],
   "source": [
    "select_features_df_char.dtypes"
   ]
  },
  {
   "cell_type": "markdown",
   "id": "49638a67",
   "metadata": {},
   "source": [
    "## Create the Master Feature Set for Model Development"
   ]
  },
  {
   "cell_type": "code",
   "execution_count": null,
   "id": "358d1baf",
   "metadata": {},
   "outputs": [],
   "source": [
    "X_all = pd.concat([select_features_df_char, select_features_df_num], axis = 1, join = 'inner')"
   ]
  },
  {
   "cell_type": "code",
   "execution_count": null,
   "id": "514f518c",
   "metadata": {},
   "outputs": [],
   "source": [
    "X_all.shape"
   ]
  },
  {
   "cell_type": "markdown",
   "id": "0e3bf0f0",
   "metadata": {},
   "source": [
    "## Train Test Split"
   ]
  },
  {
   "cell_type": "code",
   "execution_count": null,
   "id": "890203ad",
   "metadata": {},
   "outputs": [],
   "source": [
    "from sklearn.model_selection import train_test_split\n",
    "X_train, X_test, y_train, y_test = train_test_split(X_all, Y, test_size = 0.3, random_state = 10)"
   ]
  },
  {
   "cell_type": "code",
   "execution_count": null,
   "id": "34f91691",
   "metadata": {},
   "outputs": [],
   "source": [
    "print('Shape of Training data : ',X_train.shape)\n",
    "print('Shape pf Testing data : ',X_test.shape)\n",
    "print('Response Rate in Training data : ',y_train.mean())\n",
    "print('Response Rate in Testing data : ',y_test.mean())"
   ]
  },
  {
   "cell_type": "markdown",
   "id": "c0a74aaf",
   "metadata": {},
   "source": [
    "## Model Building Step"
   ]
  },
  {
   "cell_type": "code",
   "execution_count": null,
   "id": "c1eb987d",
   "metadata": {},
   "outputs": [],
   "source": [
    "# Building Logistic Regression model\n",
    "from sklearn.linear_model import LogisticRegression\n",
    "logreg = LogisticRegression(random_state = 10)\n",
    "logreg.fit(X_train, y_train)"
   ]
  },
  {
   "cell_type": "code",
   "execution_count": null,
   "id": "0fc0b39e",
   "metadata": {},
   "outputs": [],
   "source": [
    "coeff_df = pd.DataFrame(X_all.columns)\n",
    "coeff_df.columns = ['features']\n",
    "coeff_df['Coefficient Estimate'] = pd.Series(logreg.coef_[0])\n",
    "coeff_df"
   ]
  },
  {
   "cell_type": "code",
   "execution_count": null,
   "id": "ee4f1d6e",
   "metadata": {},
   "outputs": [],
   "source": [
    "# Building Decision Tree model\n",
    "from sklearn.tree import DecisionTreeClassifier\n",
    "dtree = DecisionTreeClassifier(criterion = 'gini', random_state = 10)"
   ]
  },
  {
   "cell_type": "code",
   "execution_count": null,
   "id": "212327bb",
   "metadata": {},
   "outputs": [],
   "source": [
    "# Using the Grid Searc to find the best parameters\n",
    "\n",
    "np.random.seed(44)\n",
    "from sklearn.model_selection import GridSearchCV\n",
    "param_dist = {'max_depth' : [3,4,6,7,8], 'min_samples_split' : [120, 220, 300, 400, 500]}\n",
    "tree_grid = GridSearchCV(dtree, cv = 10, param_grid = param_dist, n_jobs = -1)\n",
    "tree_grid.fit(X_train, y_train)\n",
    "\n",
    "print('Best parameters using Grid Search : \\n', tree_grid.best_params_)"
   ]
  },
  {
   "cell_type": "code",
   "execution_count": null,
   "id": "78df28ba",
   "metadata": {},
   "outputs": [],
   "source": [
    "# Use the best parameters in Decison tree model\n",
    "dtree = DecisionTreeClassifier(criterion = 'gini', random_state = 10, max_depth = 6, min_samples_split = 120)\n",
    "dtree.fit(X_train, y_train)"
   ]
  },
  {
   "cell_type": "code",
   "execution_count": null,
   "id": "fb4ba1a5",
   "metadata": {},
   "outputs": [],
   "source": [
    "from sklearn import tree\n",
    "import pydotplus\n",
    "\n",
    "plt.figure(figsize=[50,10])\n",
    "tree.plot_tree(dtree,filled=True,fontsize=15,rounded=True,feature_names=X_all.columns)\n",
    "plt.show()"
   ]
  },
  {
   "cell_type": "code",
   "execution_count": null,
   "id": "307e50c8",
   "metadata": {},
   "outputs": [],
   "source": [
    "# Building random Forest Model\n",
    "from sklearn.ensemble import RandomForestClassifier\n",
    "rf = RandomForestClassifier(criterion = 'gini', random_state = 10, max_depth = 6, min_samples_split = 120)\n",
    "rf.fit(X_train, y_train)"
   ]
  },
  {
   "cell_type": "code",
   "execution_count": null,
   "id": "ffc344b6",
   "metadata": {},
   "outputs": [],
   "source": [
    "# Checking the feature importances\n",
    "\n",
    "feature_importances=pd.DataFrame(rf.feature_importances_,\n",
    "                                 index=X_train.columns,\n",
    "                                 columns=['importance']).sort_values('importance',ascending=False)\n",
    "feature_importances"
   ]
  },
  {
   "cell_type": "code",
   "execution_count": null,
   "id": "4a77db16",
   "metadata": {},
   "outputs": [],
   "source": [
    "# Building Gradient Boosting model\n",
    "from sklearn.ensemble import GradientBoostingClassifier\n",
    "gbm = GradientBoostingClassifier(criterion = 'mse', random_state = 10, max_depth = 6, min_samples_split = 120)\n",
    "gbm.fit(X_train, y_train)"
   ]
  },
  {
   "cell_type": "code",
   "execution_count": null,
   "id": "bf97db8f",
   "metadata": {},
   "outputs": [],
   "source": [
    "# Checking the feature importances\n",
    "feature_importances=pd.DataFrame(gbm.feature_importances_,\n",
    "                                 index=X_train.columns,\n",
    "                                 columns=['importance']).sort_values('importance',ascending=False)\n",
    "feature_importances"
   ]
  },
  {
   "cell_type": "code",
   "execution_count": null,
   "id": "0d260149",
   "metadata": {},
   "outputs": [],
   "source": [
    "# Building the Stacking Classifier\n",
    "base_learners =[\n",
    "                ('rf',RandomForestClassifier(criterion='gini',random_state=0,max_depth=6,min_samples_split=120)),\n",
    "                ('gbm',GradientBoostingClassifier(criterion='mse',random_state=0,max_depth=6,min_samples_split=120))  \n",
    "              ] "
   ]
  },
  {
   "cell_type": "code",
   "execution_count": null,
   "id": "1f2e8a18",
   "metadata": {},
   "outputs": [],
   "source": [
    "from sklearn.ensemble import StackingClassifier\n",
    "clf = StackingClassifier(estimators=base_learners, final_estimator=LogisticRegression())"
   ]
  },
  {
   "cell_type": "code",
   "execution_count": null,
   "id": "cf123211",
   "metadata": {},
   "outputs": [],
   "source": [
    "clf.fit(X_train, y_train)"
   ]
  },
  {
   "cell_type": "markdown",
   "id": "1040a509",
   "metadata": {},
   "source": [
    "## Model evaluation"
   ]
  },
  {
   "cell_type": "code",
   "execution_count": null,
   "id": "84717cc3",
   "metadata": {},
   "outputs": [],
   "source": [
    "y_pred_logreg = logreg.predict(X_test)\n",
    "y_pred_tree = dtree.predict(X_test)\n",
    "y_pred_rf = rf.predict(X_test)\n",
    "y_pred_gbm = gbm.predict(X_test)\n",
    "y_pred_clf = clf.predict(X_test)"
   ]
  },
  {
   "cell_type": "code",
   "execution_count": null,
   "id": "4563ebe0",
   "metadata": {},
   "outputs": [],
   "source": [
    "# For Logistic Regression\n",
    "from sklearn import metrics\n",
    "print('Accuracy : ',metrics.accuracy_score(y_test,y_pred_logreg))\n",
    "print('Precision : ',metrics.precision_score(y_test,y_pred_logreg))\n",
    "print('Recall : ',metrics.recall_score(y_test,y_pred_logreg))\n",
    "print('f1_score : ',metrics.f1_score(y_test,y_pred_logreg))"
   ]
  },
  {
   "cell_type": "code",
   "execution_count": null,
   "id": "98d5e655",
   "metadata": {},
   "outputs": [],
   "source": [
    "from sklearn.metrics import confusion_matrix"
   ]
  },
  {
   "cell_type": "code",
   "execution_count": null,
   "id": "76d67e99",
   "metadata": {},
   "outputs": [],
   "source": [
    "# Plotting confision matrix\n",
    "metrics.plot_confusion_matrix(logreg, X_all, Y)"
   ]
  },
  {
   "cell_type": "code",
   "execution_count": null,
   "id": "fc9aa2ab",
   "metadata": {},
   "outputs": [],
   "source": [
    "# For Decision Tree\n",
    "print('Accuracy : ',metrics.accuracy_score(y_test,y_pred_tree))\n",
    "print('Precision : ',metrics.precision_score(y_test,y_pred_tree))\n",
    "print('Recall : ',metrics.recall_score(y_test,y_pred_tree))\n",
    "print('f1_score : ',metrics.f1_score(y_test,y_pred_tree))"
   ]
  },
  {
   "cell_type": "code",
   "execution_count": null,
   "id": "fd17a2f7",
   "metadata": {},
   "outputs": [],
   "source": [
    "# Plotting confision matrix\n",
    "metrics.plot_confusion_matrix(dtree, X_all, Y)"
   ]
  },
  {
   "cell_type": "code",
   "execution_count": null,
   "id": "8d49c0bc",
   "metadata": {},
   "outputs": [],
   "source": [
    "# For Random Forest\n",
    "print('Accuracy : ',metrics.accuracy_score(y_test,y_pred_rf))\n",
    "print('Precision : ',metrics.precision_score(y_test,y_pred_rf))\n",
    "print('Recall : ',metrics.recall_score(y_test,y_pred_rf))\n",
    "print('f1_score : ',metrics.f1_score(y_test,y_pred_rf))\n"
   ]
  },
  {
   "cell_type": "code",
   "execution_count": null,
   "id": "d4267767",
   "metadata": {},
   "outputs": [],
   "source": [
    "# Plotting confision matrix\n",
    "metrics.plot_confusion_matrix(rf, X_all, Y)"
   ]
  },
  {
   "cell_type": "code",
   "execution_count": null,
   "id": "b6c299f7",
   "metadata": {},
   "outputs": [],
   "source": [
    "# For Gradient boosting\n",
    "print('Accuracy : ',metrics.accuracy_score(y_test,y_pred_gbm))\n",
    "print('Precision : ',metrics.precision_score(y_test,y_pred_gbm))\n",
    "print('Recall : ',metrics.recall_score(y_test,y_pred_gbm))\n",
    "print('f1_score : ',metrics.f1_score(y_test,y_pred_gbm))"
   ]
  },
  {
   "cell_type": "code",
   "execution_count": null,
   "id": "352823d0",
   "metadata": {},
   "outputs": [],
   "source": [
    "# Plotting confision matrix\n",
    "metrics.plot_confusion_matrix(gbm, X_all, Y)"
   ]
  },
  {
   "cell_type": "code",
   "execution_count": null,
   "id": "c25c346d",
   "metadata": {},
   "outputs": [],
   "source": [
    "# For Stacking\n",
    "print('Accuracy : ',metrics.accuracy_score(y_test,y_pred_clf))\n",
    "print('Precision : ',metrics.precision_score(y_test,y_pred_clf))\n",
    "print('Recall : ',metrics.recall_score(y_test,y_pred_clf))\n",
    "print('f1_score : ',metrics.f1_score(y_test,y_pred_clf))\n"
   ]
  },
  {
   "cell_type": "code",
   "execution_count": null,
   "id": "775f9ee9",
   "metadata": {},
   "outputs": [],
   "source": [
    "# Plotting confision matrix\n",
    "metrics.plot_confusion_matrix(clf, X_all, Y)"
   ]
  },
  {
   "cell_type": "code",
   "execution_count": null,
   "id": "bb4e36ec",
   "metadata": {},
   "outputs": [],
   "source": [
    "# Gains Chart Analysis\n",
    "# This will help understand the power of discrimination offered by the model's estimated probabilities"
   ]
  },
  {
   "cell_type": "code",
   "execution_count": null,
   "id": "15e71ed1",
   "metadata": {},
   "outputs": [],
   "source": [
    "# Gains chart using GBM model "
   ]
  },
  {
   "cell_type": "code",
   "execution_count": null,
   "id": "6ad92e08",
   "metadata": {},
   "outputs": [],
   "source": [
    "y_pred_prob = gbm.predict_proba(X_all)[:, 1]\n",
    "df['pred_prob_gbm']=pd.DataFrame(y_pred_prob)\n",
    "df['P_Rank_GBM']=pd.qcut(df['pred_prob_gbm'].rank(method='first').values,10,duplicates='drop').codes+1\n",
    "\n",
    "rank_df_actuals=df.groupby('P_Rank_GBM')['target'].agg(['count','mean'])\n",
    "rank_df_predicted=df.groupby('P_Rank_GBM')['pred_prob_gbm'].agg(['mean'])\n",
    "\n",
    "\n",
    "rank_df_actuals.rename(columns={'mean':'Actual_event_rate'},inplace=True)\n",
    "rank_df_predicted.rename(columns={'mean':'Predicted_event_rate'},inplace=True)\n",
    "rank_df=pd.concat([rank_df_actuals,rank_df_predicted],axis=1,join=\"inner\")\n",
    "\n",
    "sorted_rank_df=rank_df.sort_values(by='P_Rank_GBM',ascending=False)\n",
    "sorted_rank_df['N_events']=rank_df['count']*rank_df['Actual_event_rate']\n",
    "sorted_rank_df['cum_events']=sorted_rank_df['N_events'].cumsum()\n",
    "sorted_rank_df['event_cap']=sorted_rank_df['N_events']/max(sorted_rank_df['N_events'].cumsum())\n",
    "sorted_rank_df['cum_event_cap']=sorted_rank_df['event_cap'].cumsum()\n",
    "\n",
    "sorted_rank_df['N_non_events']=sorted_rank_df['count']-sorted_rank_df['N_events']\n",
    "sorted_rank_df['cum_non_events']=sorted_rank_df['N_non_events'].cumsum()\n",
    "sorted_rank_df['non_event_cap']=sorted_rank_df['N_non_events']/max(sorted_rank_df['N_non_events'].cumsum())\n",
    "sorted_rank_df['cum_non_event_cap']=sorted_rank_df['non_event_cap'].cumsum()\n",
    "sorted_rank_df['KS']=round((sorted_rank_df['cum_event_cap']-sorted_rank_df['cum_non_event_cap']),4)\n",
    "\n",
    "sorted_reindexed=sorted_rank_df.reset_index()\n",
    "sorted_reindexed['Decile']=sorted_reindexed.index+1\n",
    "sorted_reindexed"
   ]
  },
  {
   "cell_type": "code",
   "execution_count": null,
   "id": "7edeedf1",
   "metadata": {},
   "outputs": [],
   "source": [
    "ax = sns.lineplot(x = 'Decile', y = 'cum_non_event_cap', data = sorted_reindexed, color = 'red')\n",
    "ax = sns.lineplot(x = 'Decile', y = 'cum_event_cap', data = sorted_reindexed, color = 'grey')"
   ]
  },
  {
   "cell_type": "markdown",
   "id": "e267f404",
   "metadata": {},
   "source": [
    "# Project Conclusion :\n"
   ]
  },
  {
   "cell_type": "markdown",
   "id": "3794f26a",
   "metadata": {},
   "source": [
    " The GBM Model has performed the best and will be used for customer targeting with retention offers in Telecom"
   ]
  },
  {
   "cell_type": "code",
   "execution_count": null,
   "id": "99af893e",
   "metadata": {},
   "outputs": [],
   "source": [
    "# Since the KS value maximises in the 9th decile, the predicted response rank dataframe is created by taking the \n",
    "# top 2 and bottom 8 rank\n",
    "df['Predicted_Response_Rank'] = np.where(df['P_Rank_GBM'] > 8, 'Top 2', 'Bottom 8')"
   ]
  },
  {
   "cell_type": "code",
   "execution_count": null,
   "id": "45c7a3d5",
   "metadata": {},
   "outputs": [],
   "source": [
    "df.groupby('Predicted_Response_Rank')['target'].agg(['mean'])"
   ]
  },
  {
   "cell_type": "code",
   "execution_count": null,
   "id": "144df541",
   "metadata": {},
   "outputs": [],
   "source": [
    "# From the model feature importances 'duration' seems to be very important\n",
    "# Using the 'duration' feature to further analysis to find the response rate\n",
    "# Creating deciles out of the 'duration' feature\n",
    "\n",
    "df['Duration_Rank'] = pd.qcut(df['duration'].rank(method ='first').values, 10, duplicates = 'drop').codes+1"
   ]
  },
  {
   "cell_type": "code",
   "execution_count": null,
   "id": "e6ab6e9a",
   "metadata": {},
   "outputs": [],
   "source": [
    "df.groupby('Duration_Rank')['duration'].agg(['min','mean' ,'max'])"
   ]
  },
  {
   "cell_type": "code",
   "execution_count": null,
   "id": "0140ce01",
   "metadata": {},
   "outputs": [],
   "source": [
    "df['duration'].mean()"
   ]
  },
  {
   "cell_type": "code",
   "execution_count": null,
   "id": "56470574",
   "metadata": {},
   "outputs": [],
   "source": [
    "# Creating dataframe for 'high duration' and 'low duration', on the basis of ranks having value greater than the \n",
    "# mean of 'duration'feature\n",
    "\n",
    "df['duration_segment'] = np.where(df['Duration_Rank'] > 7, 'High Duration', 'Low Duration')\n",
    "df.duration_segment.value_counts()"
   ]
  },
  {
   "cell_type": "code",
   "execution_count": null,
   "id": "1141a823",
   "metadata": {},
   "outputs": [],
   "source": [
    "# Cross tabulating the duration segment with the predicted response rank \n",
    "pd.crosstab(index = df['duration_segment'], columns = df['Predicted_Response_Rank'],\n",
    "            values = df['target'], aggfunc = 'mean')\n",
    "\n"
   ]
  },
  {
   "cell_type": "code",
   "execution_count": null,
   "id": "8f3162ed",
   "metadata": {},
   "outputs": [],
   "source": [
    "# Cross tabulating the duration segment with the predicted response rank\n",
    "pd.crosstab(index = df['duration_segment'], columns = df['Predicted_Response_Rank'],\n",
    "            values = df['Predicted_Response_Rank'], aggfunc = 'count')\n"
   ]
  },
  {
   "cell_type": "code",
   "execution_count": null,
   "id": "eef19175",
   "metadata": {},
   "outputs": [],
   "source": [
    "### Recommendations ###\n",
    "\n",
    "# Phase 1 - Speak to customers who fall in Top 2 predicted rank (deciles) and also in High Duration\n",
    "# Phase 2 - Next speak customers in Top 2 , Low Duration"
   ]
  }
 ],
 "metadata": {
  "kernelspec": {
   "display_name": "Python 3 (ipykernel)",
   "language": "python",
   "name": "python3"
  },
  "language_info": {
   "codemirror_mode": {
    "name": "ipython",
    "version": 3
   },
   "file_extension": ".py",
   "mimetype": "text/x-python",
   "name": "python",
   "nbconvert_exporter": "python",
   "pygments_lexer": "ipython3",
   "version": "3.8.12"
  }
 },
 "nbformat": 4,
 "nbformat_minor": 5
}
